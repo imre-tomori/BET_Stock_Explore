{
 "cells": [
  {
   "cell_type": "code",
   "execution_count": 1,
   "id": "c323df00",
   "metadata": {},
   "outputs": [],
   "source": [
    "import pandas as pd\n",
    "import yfinance as yf"
   ]
  },
  {
   "cell_type": "code",
   "execution_count": 2,
   "id": "92bca8cb",
   "metadata": {},
   "outputs": [],
   "source": [
    "ticker_list = [\"MOL.BD\", \"MSFT\", \"RICHT.BD\"]\n",
    "stock_data_path = \"Stock Data/\""
   ]
  },
  {
   "cell_type": "code",
   "execution_count": 3,
   "id": "809d4ec7",
   "metadata": {},
   "outputs": [
    {
     "name": "stdout",
     "output_type": "stream",
     "text": [
      "[*********************100%***********************]  3 of 3 completed\n"
     ]
    }
   ],
   "source": [
    "stock_data = yf.download(\n",
    "    tickers = ticker_list, period = '1y', interval = '1d', group_by = 'ticker')"
   ]
  },
  {
   "cell_type": "code",
   "execution_count": 4,
   "id": "d07da158",
   "metadata": {},
   "outputs": [
    {
     "data": {
      "text/plain": [
       "[None, None, None]"
      ]
     },
     "execution_count": 4,
     "metadata": {},
     "output_type": "execute_result"
    }
   ],
   "source": [
    "[stock_data[ticker].to_csv(stock_data_path+ticker+\".csv\") for ticker in ticker_list]"
   ]
  },
  {
   "cell_type": "code",
   "execution_count": null,
   "id": "0d6e1d04",
   "metadata": {},
   "outputs": [],
   "source": []
  }
 ],
 "metadata": {
  "kernelspec": {
   "display_name": "Python 3 (ipykernel)",
   "language": "python",
   "name": "python3"
  },
  "language_info": {
   "codemirror_mode": {
    "name": "ipython",
    "version": 3
   },
   "file_extension": ".py",
   "mimetype": "text/x-python",
   "name": "python",
   "nbconvert_exporter": "python",
   "pygments_lexer": "ipython3",
   "version": "3.9.7"
  }
 },
 "nbformat": 4,
 "nbformat_minor": 5
}
